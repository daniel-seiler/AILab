{
 "cells": [
  {
   "cell_type": "markdown",
   "id": "e1663cf1",
   "metadata": {},
   "source": [
    "## Assignment 1 - Mnist with a simple (one hidden layer) Neural Net"
   ]
  },
  {
   "cell_type": "code",
   "execution_count": 1,
   "id": "04d388c6",
   "metadata": {},
   "outputs": [
    {
     "data": {
      "text/plain": [
       "device(type='cuda', index=0)"
      ]
     },
     "execution_count": 1,
     "metadata": {},
     "output_type": "execute_result"
    }
   ],
   "source": [
    "import torch\n",
    "import torchvision\n",
    "import matplotlib.pyplot as plt\n",
    "\n",
    "device = torch.device(\"cpu\") #Use CPU\n",
    "device = torch.device(\"cuda:0\" if torch.cuda.is_available() else \"cpu\") #If nvidea GPU is available use GPU\n",
    "device"
   ]
  },
  {
   "cell_type": "markdown",
   "id": "19de9d27",
   "metadata": {},
   "source": [
    "Creating the nn.module for a neural network with two layers. "
   ]
  },
  {
   "cell_type": "code",
   "execution_count": 2,
   "id": "d56704ed",
   "metadata": {},
   "outputs": [],
   "source": [
    "class TwoLayerNet(torch.nn.Module):\n",
    "  def __init__(self, D_in, H, D_out):\n",
    "    \"\"\"\n",
    "    In the constructor we instantiate two nn.Linear modules and assign them as\n",
    "    member variables.\n",
    "    \"\"\"\n",
    "    super(TwoLayerNet, self).__init__()\n",
    "    self.linear1 = torch.nn.Linear(D_in, H)\n",
    "    self.linear2 = torch.nn.Linear(H, D_out)\n",
    "    self.D_out = D_out\n",
    "\n",
    "  def forward(self, x):\n",
    "    \"\"\"\n",
    "    In the forward function we accept a Tensor of input data and we must return\n",
    "    a Tensor of output data. We can use Modules defined in the constructor as\n",
    "    well as arbitrary (differentiable) operations on Tensors.\n",
    "    \"\"\"\n",
    "    # flatten the tensor\n",
    "    x = x.view(x.size(0), -1)\n",
    "    h_relu = self.linear1(x).clamp(min=0)\n",
    "    y_pred = self.linear2(h_relu)\n",
    "    return torch.nn.functional.log_softmax(y_pred, dim=1)"
   ]
  },
  {
   "cell_type": "markdown",
   "id": "c323d337",
   "metadata": {},
   "source": [
    "Setup vars that impact the time and effectivness of the training process."
   ]
  },
  {
   "cell_type": "code",
   "execution_count": 3,
   "id": "7aed69d9",
   "metadata": {},
   "outputs": [],
   "source": [
    "batch_size_train = 64*10\n",
    "batch_size_test = 1000\n",
    "loss_rate = 1e-3\n",
    "n_epoch = 50"
   ]
  },
  {
   "cell_type": "markdown",
   "id": "149d0f37",
   "metadata": {},
   "source": [
    "Loading the mnist-dataset, pictures of handwritten numbers."
   ]
  },
  {
   "cell_type": "code",
   "execution_count": 4,
   "id": "8aefdf8c",
   "metadata": {},
   "outputs": [],
   "source": [
    "train_mnist = torchvision.datasets.MNIST('/files/', train=True, download=True,\n",
    "                             transform=torchvision.transforms.Compose([\n",
    "                               torchvision.transforms.ToTensor(),\n",
    "                               torchvision.transforms.Normalize(\n",
    "                                 (0.1307,), (0.3081,)),\n",
    "                             ]))\n",
    "\n",
    "#train_loader = torch.utils.data.DataLoader(\n",
    "#  train_mnist,\n",
    "#  batch_size=batch_size_train, shuffle=True)"
   ]
  },
  {
   "cell_type": "markdown",
   "id": "c7e09b7c",
   "metadata": {},
   "source": [
    "Precomputing the *torchvision.transforms* and loading the **complete** dataset on the GPU. This is not nessesary and in some cases a stupid idea, but in this case it causes a huge speedup, so not doing this is an enormous waste of time."
   ]
  },
  {
   "cell_type": "code",
   "execution_count": 5,
   "id": "02867b8f",
   "metadata": {},
   "outputs": [],
   "source": [
    "train_data = []\n",
    "train_labels = []\n",
    "for img, label in train_mnist:\n",
    "    train_data.append(img)\n",
    "    train_labels.append(label)\n",
    "\n",
    "train_data = torch.stack(train_data)\n",
    "train_labels = torch.tensor(train_labels)\n",
    "\n",
    "train_data = train_data.to(device)\n",
    "train_labels = train_labels.to(device)\n",
    "\n",
    "train_loader = torch.utils.data.DataLoader(\n",
    "  torch.utils.data.TensorDataset(train_data, train_labels),\n",
    "  batch_size=batch_size_train, shuffle=True)"
   ]
  },
  {
   "cell_type": "markdown",
   "id": "6c73a6ed",
   "metadata": {},
   "source": [
    "Loading the test-dataset. Here we don't precompute and don't transfer the data to the GPU because we will only use this data a few times. The train data will be used in multiple epochs so we get much more use out of the prepared data."
   ]
  },
  {
   "cell_type": "code",
   "execution_count": 6,
   "id": "289afc93",
   "metadata": {},
   "outputs": [],
   "source": [
    "test_loader = torch.utils.data.DataLoader(\n",
    "  torchvision.datasets.MNIST('/files/', train=False, download=True,\n",
    "                             transform=torchvision.transforms.Compose([\n",
    "                               torchvision.transforms.ToTensor(),\n",
    "                               torchvision.transforms.Normalize(\n",
    "                                 (0.1307,), (0.3081,))\n",
    "                             ])),\n",
    "  batch_size=batch_size_test, shuffle=True)"
   ]
  },
  {
   "cell_type": "markdown",
   "id": "052eaf22",
   "metadata": {},
   "source": [
    "Setting up the vars for the network. \n",
    "\n",
    "The hidden layer is 100 per assignment. \n",
    "\n",
    "The  output needs to be 10 for 0-9.\n",
    "\n",
    "And finally the input is 784=28*28 for the gray-value each pixel of a 28x28 image."
   ]
  },
  {
   "cell_type": "code",
   "execution_count": 7,
   "id": "536661d2",
   "metadata": {},
   "outputs": [],
   "source": [
    "D_in, H, D_out = 784, 100, 10"
   ]
  },
  {
   "cell_type": "code",
   "execution_count": 8,
   "id": "0d2f8e1f",
   "metadata": {},
   "outputs": [],
   "source": [
    "model = TwoLayerNet(D_in, H, D_out)\n",
    "model = model.to(device)\n",
    "train_losses = []"
   ]
  },
  {
   "cell_type": "markdown",
   "id": "9c82286e",
   "metadata": {},
   "source": [
    "Training the model using nn.functional.nll_loss as loss and optim.SGD as optimizer \n",
    "\n",
    "Time \n",
    "cpu(i5-9400F): 53.1s\n",
    "\n",
    "gpu(4060 Ti): 39.1s"
   ]
  },
  {
   "cell_type": "code",
   "execution_count": 9,
   "id": "460a996f",
   "metadata": {},
   "outputs": [],
   "source": [
    "loss_fn = torch.nn.functional.nll_loss\n",
    "optimizer = torch.optim.SGD(model.parameters(), lr=loss_rate)\n",
    "model.train()\n",
    "for i in range(n_epoch):\n",
    "  for x, y in train_loader:\n",
    "    # Forward pass: Compute predicted y by passing x to the model\n",
    "    y_pred = model(x)\n",
    "\n",
    "    # Compute and print loss\n",
    "    loss = loss_fn(y_pred, y)\n",
    "    #print(loss.item())\n",
    "    train_losses.append(loss.item())\n",
    "\n",
    "    # Zero gradients, perform a backward pass, and update the weights.\n",
    "    optimizer.zero_grad()\n",
    "    loss.backward()\n",
    "    optimizer.step()"
   ]
  },
  {
   "cell_type": "code",
   "execution_count": 10,
   "id": "a4168150",
   "metadata": {},
   "outputs": [
    {
     "data": {
      "text/plain": [
       "Text(0, 0.5, 'negative log likelihood loss')"
      ]
     },
     "execution_count": 10,
     "metadata": {},
     "output_type": "execute_result"
    },
    {
     "data": {
      "image/png": "[encoded data removed]",
      "text/plain": [
       "<Figure size 640x480 with 1 Axes>"
      ]
     },
     "metadata": {},
     "output_type": "display_data"
    }
   ],
   "source": [
    "fig = plt.figure()\n",
    "plt.plot(train_losses, color='blue')\n",
    "plt.legend(['Train Loss'], loc='upper right')\n",
    "plt.xlabel('batch count')\n",
    "plt.ylabel('negative log likelihood loss')"
   ]
  },
  {
   "cell_type": "code",
   "execution_count": 11,
   "id": "3b7e21bd",
   "metadata": {},
   "outputs": [
    {
     "name": "stderr",
     "output_type": "stream",
     "text": [
      "c:\\Users\\fabia\\AppData\\Local\\Programs\\Python\\Python312\\Lib\\site-packages\\torch\\nn\\_reduction.py:51: UserWarning: size_average and reduce args will be deprecated, please use reduction='sum' instead.\n",
      "  warnings.warn(warning.format(ret))\n"
     ]
    },
    {
     "name": "stdout",
     "output_type": "stream",
     "text": [
      "\n",
      "Test set: Avg. loss: 0.3984, Accuracy: 8952/10000 (90%)\n",
      "\n"
     ]
    }
   ],
   "source": [
    "model.eval()\n",
    "model.cpu()\n",
    "test_loss = 0\n",
    "correct = 0\n",
    "with torch.no_grad():\n",
    "  for data, target in test_loader:\n",
    "    output = model(data)\n",
    "    test_loss += torch.nn.functional.nll_loss(output, target, size_average=False).item()\n",
    "    pred = output.data.max(1, keepdim=True)[1]\n",
    "    correct += pred.eq(target.data.view_as(pred)).sum()\n",
    "test_loss /= len(test_loader.dataset)\n",
    "print('\\nTest set: Avg. loss: {:.4f}, Accuracy: {}/{} ({:.0f}%)\\n'.format(test_loss, correct, len(test_loader.dataset), 100. * correct / len(test_loader.dataset)))"
   ]
  }
 ],
 "metadata": {
  "kernelspec": {
   "display_name": "Python 3",
   "language": "python",
   "name": "python3"
  },
  "language_info": {
   "codemirror_mode": {
    "name": "ipython",
    "version": 3
   },
   "file_extension": ".py",
   "mimetype": "text/x-python",
   "name": "python",
   "nbconvert_exporter": "python",
   "pygments_lexer": "ipython3",
   "version": "3.12.8"
  }
 },
 "nbformat": 4,
 "nbformat_minor": 5
}
